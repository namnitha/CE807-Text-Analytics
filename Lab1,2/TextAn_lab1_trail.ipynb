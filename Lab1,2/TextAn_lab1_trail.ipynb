{
  "nbformat": 4,
  "nbformat_minor": 0,
  "metadata": {
    "kernelspec": {
      "display_name": "Python 3",
      "language": "python",
      "name": "python3"
    },
    "language_info": {
      "codemirror_mode": {
        "name": "ipython",
        "version": 3
      },
      "file_extension": ".py",
      "mimetype": "text/x-python",
      "name": "python",
      "nbconvert_exporter": "python",
      "pygments_lexer": "ipython3",
      "version": "3.6.5"
    },
    "colab": {
      "name": "TextAn lab1 trail.ipynb",
      "provenance": [],
      "include_colab_link": true
    }
  },
  "cells": [
    {
      "cell_type": "markdown",
      "metadata": {
        "id": "view-in-github",
        "colab_type": "text"
      },
      "source": [
        "<a href=\"https://colab.research.google.com/github/namnitha/CE807-Text-Analytics/blob/master/Lab1%2C2/TextAn_lab1_trail.ipynb\" target=\"_parent\"><img src=\"https://colab.research.google.com/assets/colab-badge.svg\" alt=\"Open In Colab\"/></a>"
      ]
    },
    {
      "cell_type": "code",
      "metadata": {
        "id": "XLhYb72koPn-",
        "colab_type": "code",
        "colab": {}
      },
      "source": [
        "from __future__ import unicode_literals\n",
        "import sklearn\n",
        "import numpy as np\n",
        "import matplotlib.pyplot as plt"
      ],
      "execution_count": 0,
      "outputs": []
    },
    {
      "cell_type": "code",
      "metadata": {
        "id": "3QjD6Im0oPoD",
        "colab_type": "code",
        "colab": {}
      },
      "source": [
        "data = np.asarray([[1,2],[2,3],[3,4],[4,5],[5,6]])\n",
        "x,y = data[:,0], data[:,1]"
      ],
      "execution_count": 0,
      "outputs": []
    },
    {
      "cell_type": "code",
      "metadata": {
        "id": "Tdj0Ad84oPoE",
        "colab_type": "code",
        "colab": {},
        "outputId": "9f9a3490-2b81-4c70-86ad-a8836e8e6f76"
      },
      "source": [
        "plt.scatter(x,y)\n",
        "plt.grid(True)\n",
        "plt.show()\n",
        "plt.ion()\n",
        "plt.ioff()"
      ],
      "execution_count": 0,
      "outputs": [
        {
          "output_type": "display_data",
          "data": {
            "image/png": "[encoded data removed]",
            "text/plain": [
              "<Figure size 432x288 with 1 Axes>"
            ]
          },
          "metadata": {
            "tags": []
          }
        }
      ]
    },
    {
      "cell_type": "code",
      "metadata": {
        "id": "374SVaBsoPoH",
        "colab_type": "code",
        "colab": {},
        "outputId": "7d7f5223-9bc0-4da2-cf5d-a42629a31904"
      },
      "source": [
        "from sklearn.feature_extraction.text import CountVectorizer\n",
        "#countvectorizertokenize the collection of the text doc and \n",
        "#build a vocabulary of number of words, but also encodes new docs using \n",
        "#that vocabulary \n",
        "vectorizer= CountVectorizer(min_df=1) #creating transform\n",
        "content= ['How to frame my hard disk', 'Hard disk format problems problems']\n",
        "X = vectorizer.fit_transform(content)\n",
        "print(vectorizer.get_feature_names())"
      ],
      "execution_count": 0,
      "outputs": [
        {
          "output_type": "stream",
          "text": [
            "['disk', 'format', 'frame', 'hard', 'how', 'my', 'problems', 'to']\n"
          ],
          "name": "stdout"
        }
      ]
    },
    {
      "cell_type": "code",
      "metadata": {
        "id": "g66ZmoKloPoJ",
        "colab_type": "code",
        "colab": {},
        "outputId": "02fd9370-3600-4f86-8f86-094b2b895d65"
      },
      "source": [
        "print(X.toarray())"
      ],
      "execution_count": 0,
      "outputs": [
        {
          "output_type": "stream",
          "text": [
            "[[1 0 1 1 1 1 0 1]\n",
            " [1 1 0 1 0 0 2 0]]\n"
          ],
          "name": "stdout"
        }
      ]
    },
    {
      "cell_type": "code",
      "metadata": {
        "id": "9kuevqocoPoM",
        "colab_type": "code",
        "colab": {},
        "outputId": "f866eede-b9a6-4fa4-cce6-4589ede07746"
      },
      "source": [
        "print(X.toarray()[0])"
      ],
      "execution_count": 0,
      "outputs": [
        {
          "output_type": "stream",
          "text": [
            "[1 0 1 1 1 1 0 1]\n"
          ],
          "name": "stdout"
        }
      ]
    },
    {
      "cell_type": "code",
      "metadata": {
        "id": "9C3zaTwtoPoO",
        "colab_type": "code",
        "colab": {},
        "outputId": "56bafddd-dd4f-49c0-cea6-ab94a59fdd7e"
      },
      "source": [
        "print(X.toarray()[0,1])\n"
      ],
      "execution_count": 0,
      "outputs": [
        {
          "output_type": "stream",
          "text": [
            "0\n"
          ],
          "name": "stdout"
        }
      ]
    },
    {
      "cell_type": "code",
      "metadata": {
        "id": "ovixg6v4oPoQ",
        "colab_type": "code",
        "colab": {}
      },
      "source": [
        "from sklearn.datasets import fetch_20newsgroups"
      ],
      "execution_count": 0,
      "outputs": []
    },
    {
      "cell_type": "code",
      "metadata": {
        "id": "_nFXto6ioPoS",
        "colab_type": "code",
        "colab": {}
      },
      "source": [
        "from sklearn.datasets import fetch_20newsgroups\n",
        "categories = ['alt.atheism', 'soc.religion.christian',\n",
        "              'comp.graphics', 'sci.med']\n",
        "twenty_train = fetch_20newsgroups(subset='train', categories=categories,shuffle=True, random_state=42)\n",
        "vectorizer = CountVectorizer()\n",
        "train_counts = vectorizer.fit_transform(twenty_train.data)\n"
      ],
      "execution_count": 0,
      "outputs": []
    },
    {
      "cell_type": "code",
      "metadata": {
        "id": "36VaNYp-oPoU",
        "colab_type": "code",
        "colab": {},
        "outputId": "682e6853-1aae-437d-ef40-f6164b54b0f2"
      },
      "source": [
        "\n",
        "print(vectorizer.vocabulary_.get('algorithm')) #this shows how frequently word algo comes in subset of 20newgrps\n",
        "print(len(vectorizer.get_feature_names())) #To see how many terms were extracted, we can use get_feature_names\n",
        "vectorizer = CountVectorizer(stop_words='english')\n",
        "print(sorted(vectorizer.get_stop_words())[:20]) #To see what words are considered stop words"
      ],
      "execution_count": 0,
      "outputs": [
        {
          "output_type": "stream",
          "text": [
            "None\n",
            "35788\n",
            "['a', 'about', 'above', 'across', 'after', 'afterwards', 'again', 'against', 'all', 'almost', 'alone', 'along', 'already', 'also', 'although', 'always', 'am', 'among', 'amongst', 'amoungst']\n"
          ],
          "name": "stdout"
        }
      ]
    },
    {
      "cell_type": "code",
      "metadata": {
        "id": "iyUqR4WyoPoW",
        "colab_type": "code",
        "colab": {}
      },
      "source": [
        "import nltk"
      ],
      "execution_count": 0,
      "outputs": []
    },
    {
      "cell_type": "code",
      "metadata": {
        "id": "9S255QBloPoX",
        "colab_type": "code",
        "colab": {},
        "outputId": "0e4e1f65-3773-41c1-f667-e125b2172932"
      },
      "source": [
        "s = nltk.stem.SnowballStemmer('english')\n",
        "print(s.stem('cats')) #stemming"
      ],
      "execution_count": 0,
      "outputs": [
        {
          "output_type": "stream",
          "text": [
            "cat\n"
          ],
          "name": "stdout"
        }
      ]
    },
    {
      "cell_type": "code",
      "metadata": {
        "id": "sJPJLGQHoPoZ",
        "colab_type": "code",
        "colab": {}
      },
      "source": [
        "from nltk.tokenize import word_tokenize"
      ],
      "execution_count": 0,
      "outputs": []
    },
    {
      "cell_type": "code",
      "metadata": {
        "id": "KukRWKhAoPob",
        "colab_type": "code",
        "colab": {},
        "outputId": "31e61840-d981-4bc1-8cbc-b0e3bc1bb7d7"
      },
      "source": [
        "try:\n",
        "    text = word_tokenize('And now for something completely different')\n",
        "except(LookupError):\n",
        "    print('Installing punkt.')\n",
        "    nltk.download('punkt')\n",
        "    text = word_tokenize('And now for something completely different')\n",
        "try:\n",
        "    print(nltk.pos_tag(text))\n",
        "except(LookupError):\n",
        "    print('Installing dependencies and maxent_treebank_pos_tagger.')\n",
        "    nltk.download('averaged_perceptron_tagger')\n",
        "    nltk.download('maxent_treebank_pos_tagger')\n",
        "    print(nltk.pos_tag(text))"
      ],
      "execution_count": 0,
      "outputs": [
        {
          "output_type": "stream",
          "text": [
            "[('And', 'CC'), ('now', 'RB'), ('for', 'IN'), ('something', 'NN'), ('completely', 'RB'), ('different', 'JJ')]\n"
          ],
          "name": "stdout"
        }
      ]
    },
    {
      "cell_type": "code",
      "metadata": {
        "id": "LG8SidQJoPoe",
        "colab_type": "code",
        "colab": {},
        "outputId": "37f94139-c1e2-4eb2-a5a8-36c9b1407816"
      },
      "source": [
        "vectorizer = CountVectorizer(stop_words='english')\n",
        "analyze = vectorizer.build_analyzer() #build_analyzer() takes a string as input and outputs a list of tokens\n",
        "print(analyze('John bought carrots and potatoes'))"
      ],
      "execution_count": 0,
      "outputs": [
        {
          "output_type": "stream",
          "text": [
            "['john', 'bought', 'carrots', 'potatoes']\n"
          ],
          "name": "stdout"
        }
      ]
    },
    {
      "cell_type": "code",
      "metadata": {
        "id": "mf7GJfvHoPof",
        "colab_type": "code",
        "colab": {}
      },
      "source": [
        "english_stemmer = nltk.stem.SnowballStemmer('english')\n",
        "\n",
        "class StemmedCountVectorizer(CountVectorizer):\n",
        "    def build_analyzer(self):\n",
        "        analyzer = super(StemmedCountVectorizer,self).build_analyzer()\n",
        "        return lambda doc:(english_stemmer.stem(w) for w in analyzer(doc))"
      ],
      "execution_count": 0,
      "outputs": []
    },
    {
      "cell_type": "code",
      "metadata": {
        "id": "nmkdcDwzoPoh",
        "colab_type": "code",
        "colab": {},
        "outputId": "c2eeb247-0d54-44ac-931a-dd6ed74bdf6e"
      },
      "source": [
        "stem_vectorizer = StemmedCountVectorizer(min_df=1, stop_words='english')\n",
        "stem_analyze = stem_vectorizer.build_analyzer()\n",
        "Y = stem_analyze('John bought carrots and potatoes')\n",
        "\n",
        "for tok in Y: # {*1}\n",
        "    print(tok)"
      ],
      "execution_count": 0,
      "outputs": [
        {
          "output_type": "stream",
          "text": [
            "john\n",
            "bought\n",
            "carrot\n",
            "potato\n"
          ],
          "name": "stdout"
        }
      ]
    },
    {
      "cell_type": "code",
      "metadata": {
        "id": "Nx5a-TtBoPoj",
        "colab_type": "code",
        "colab": {},
        "outputId": "7b81c93d-a47a-42be-f4b9-788a00af947c"
      },
      "source": [
        "train_counts = stem_vectorizer.fit_transform(twenty_train.data)\n",
        "print(len(stem_vectorizer.get_feature_names()))"
      ],
      "execution_count": 0,
      "outputs": [
        {
          "output_type": "stream",
          "text": [
            "26888\n"
          ],
          "name": "stdout"
        }
      ]
    }
  ]
}